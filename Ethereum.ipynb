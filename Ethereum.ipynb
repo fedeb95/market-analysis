{
 "cells": [
  {
   "cell_type": "code",
   "execution_count": 1,
   "id": "56e59b80",
   "metadata": {},
   "outputs": [],
   "source": [
    "import pandas as pd\n",
    "import matplotlib.pyplot as plt\n",
    "import nolds\n",
    "import numpy as np"
   ]
  },
  {
   "cell_type": "code",
   "execution_count": 21,
   "id": "e126b019",
   "metadata": {},
   "outputs": [
    {
     "data": {
      "text/html": [
       "<div>\n",
       "<style scoped>\n",
       "    .dataframe tbody tr th:only-of-type {\n",
       "        vertical-align: middle;\n",
       "    }\n",
       "\n",
       "    .dataframe tbody tr th {\n",
       "        vertical-align: top;\n",
       "    }\n",
       "\n",
       "    .dataframe thead th {\n",
       "        text-align: right;\n",
       "    }\n",
       "</style>\n",
       "<table border=\"1\" class=\"dataframe\">\n",
       "  <thead>\n",
       "    <tr style=\"text-align: right;\">\n",
       "      <th></th>\n",
       "      <th>timestamp</th>\n",
       "      <th>open</th>\n",
       "      <th>high</th>\n",
       "      <th>low</th>\n",
       "      <th>close</th>\n",
       "    </tr>\n",
       "  </thead>\n",
       "  <tbody>\n",
       "    <tr>\n",
       "      <th>0</th>\n",
       "      <td>1645142400</td>\n",
       "      <td>2886.29</td>\n",
       "      <td>2943.66</td>\n",
       "      <td>2756.48</td>\n",
       "      <td>2788.72</td>\n",
       "    </tr>\n",
       "    <tr>\n",
       "      <th>1</th>\n",
       "      <td>1645142280</td>\n",
       "      <td>2884.32</td>\n",
       "      <td>undefined</td>\n",
       "      <td>undefined</td>\n",
       "      <td>undefined</td>\n",
       "    </tr>\n",
       "    <tr>\n",
       "      <th>2</th>\n",
       "      <td>1645056000</td>\n",
       "      <td>3126.97</td>\n",
       "      <td>3158.05</td>\n",
       "      <td>2856.03</td>\n",
       "      <td>2876.48</td>\n",
       "    </tr>\n",
       "    <tr>\n",
       "      <th>3</th>\n",
       "      <td>1645055880</td>\n",
       "      <td>3126.69</td>\n",
       "      <td>undefined</td>\n",
       "      <td>undefined</td>\n",
       "      <td>undefined</td>\n",
       "    </tr>\n",
       "    <tr>\n",
       "      <th>4</th>\n",
       "      <td>1644969600</td>\n",
       "      <td>3179.37</td>\n",
       "      <td>3183.08</td>\n",
       "      <td>3049.36</td>\n",
       "      <td>3122.58</td>\n",
       "    </tr>\n",
       "  </tbody>\n",
       "</table>\n",
       "</div>"
      ],
      "text/plain": [
       "    timestamp     open       high        low      close\n",
       "0  1645142400  2886.29    2943.66    2756.48    2788.72\n",
       "1  1645142280  2884.32  undefined  undefined  undefined\n",
       "2  1645056000  3126.97    3158.05    2856.03    2876.48\n",
       "3  1645055880  3126.69  undefined  undefined  undefined\n",
       "4  1644969600  3179.37    3183.08    3049.36    3122.58"
      ]
     },
     "execution_count": 21,
     "metadata": {},
     "output_type": "execute_result"
    }
   ],
   "source": [
    "df = pd.read_csv('eth.csv')\n",
    "df.head()"
   ]
  },
  {
   "cell_type": "code",
   "execution_count": 22,
   "id": "f9c5a8e6",
   "metadata": {
    "scrolled": true
   },
   "outputs": [
    {
     "data": {
      "text/html": [
       "<div>\n",
       "<style scoped>\n",
       "    .dataframe tbody tr th:only-of-type {\n",
       "        vertical-align: middle;\n",
       "    }\n",
       "\n",
       "    .dataframe tbody tr th {\n",
       "        vertical-align: top;\n",
       "    }\n",
       "\n",
       "    .dataframe thead th {\n",
       "        text-align: right;\n",
       "    }\n",
       "</style>\n",
       "<table border=\"1\" class=\"dataframe\">\n",
       "  <thead>\n",
       "    <tr style=\"text-align: right;\">\n",
       "      <th></th>\n",
       "      <th>open</th>\n",
       "      <th>high</th>\n",
       "      <th>low</th>\n",
       "      <th>close</th>\n",
       "    </tr>\n",
       "    <tr>\n",
       "      <th>timestamp</th>\n",
       "      <th></th>\n",
       "      <th></th>\n",
       "      <th></th>\n",
       "      <th></th>\n",
       "    </tr>\n",
       "  </thead>\n",
       "  <tbody>\n",
       "    <tr>\n",
       "      <th>2022-02-18 00:00:00</th>\n",
       "      <td>2886.29</td>\n",
       "      <td>2943.66</td>\n",
       "      <td>2756.48</td>\n",
       "      <td>2788.72</td>\n",
       "    </tr>\n",
       "    <tr>\n",
       "      <th>2022-02-17 23:58:00</th>\n",
       "      <td>2884.32</td>\n",
       "      <td>undefined</td>\n",
       "      <td>undefined</td>\n",
       "      <td>undefined</td>\n",
       "    </tr>\n",
       "    <tr>\n",
       "      <th>2022-02-17 00:00:00</th>\n",
       "      <td>3126.97</td>\n",
       "      <td>3158.05</td>\n",
       "      <td>2856.03</td>\n",
       "      <td>2876.48</td>\n",
       "    </tr>\n",
       "    <tr>\n",
       "      <th>2022-02-16 23:58:00</th>\n",
       "      <td>3126.69</td>\n",
       "      <td>undefined</td>\n",
       "      <td>undefined</td>\n",
       "      <td>undefined</td>\n",
       "    </tr>\n",
       "    <tr>\n",
       "      <th>2022-02-16 00:00:00</th>\n",
       "      <td>3179.37</td>\n",
       "      <td>3183.08</td>\n",
       "      <td>3049.36</td>\n",
       "      <td>3122.58</td>\n",
       "    </tr>\n",
       "  </tbody>\n",
       "</table>\n",
       "</div>"
      ],
      "text/plain": [
       "                        open       high        low      close\n",
       "timestamp                                                    \n",
       "2022-02-18 00:00:00  2886.29    2943.66    2756.48    2788.72\n",
       "2022-02-17 23:58:00  2884.32  undefined  undefined  undefined\n",
       "2022-02-17 00:00:00  3126.97    3158.05    2856.03    2876.48\n",
       "2022-02-16 23:58:00  3126.69  undefined  undefined  undefined\n",
       "2022-02-16 00:00:00  3179.37    3183.08    3049.36    3122.58"
      ]
     },
     "execution_count": 22,
     "metadata": {},
     "output_type": "execute_result"
    }
   ],
   "source": [
    "df[\"timestamp\"] = pd.to_datetime(df[\"timestamp\"], unit='s').astype(\"datetime64\")\n",
    "df = df.set_index(\"timestamp\")\n",
    "df.dropna()\n",
    "df.head()"
   ]
  },
  {
   "cell_type": "code",
   "execution_count": 23,
   "id": "8ace5f48",
   "metadata": {},
   "outputs": [
    {
     "data": {
      "text/plain": [
       "[<matplotlib.lines.Line2D at 0x7f3a4b10c9d0>]"
      ]
     },
     "execution_count": 23,
     "metadata": {},
     "output_type": "execute_result"
    },
    {
     "data": {
      "image/png": "[encoded data removed]",
      "text/plain": [
       "<Figure size 432x288 with 1 Axes>"
      ]
     },
     "metadata": {
      "needs_background": "light"
     },
     "output_type": "display_data"
    }
   ],
   "source": [
    "plt.figure()\n",
    "plt.plot(df['open'])"
   ]
  },
  {
   "cell_type": "code",
   "execution_count": 28,
   "id": "e5b00eec",
   "metadata": {},
   "outputs": [
    {
     "data": {
      "text/plain": [
       "0.9373631897653589"
      ]
     },
     "execution_count": 28,
     "metadata": {},
     "output_type": "execute_result"
    }
   ],
   "source": [
    "nolds.hurst_rs(df['open'])"
   ]
  }
 ],
 "metadata": {
  "kernelspec": {
   "display_name": "Python 3 (ipykernel)",
   "language": "python",
   "name": "python3"
  },
  "language_info": {
   "codemirror_mode": {
    "name": "ipython",
    "version": 3
   },
   "file_extension": ".py",
   "mimetype": "text/x-python",
   "name": "python",
   "nbconvert_exporter": "python",
   "pygments_lexer": "ipython3",
   "version": "3.10.1"
  }
 },
 "nbformat": 4,
 "nbformat_minor": 5
}
