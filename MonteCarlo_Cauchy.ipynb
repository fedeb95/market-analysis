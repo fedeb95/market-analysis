{
 "cells": [
  {
   "cell_type": "code",
   "execution_count": null,
   "metadata": {
    "id": "QcdVX6jZVa9B"
   },
   "outputs": [],
   "source": [
    "import numpy as np\n",
    "import pandas as pd\n",
    "from pandas_datareader import data as wb\n",
    "import matplotlib.pyplot as plt\n",
    "import seaborn as sns\n",
    "import scipy.stats as st"
   ]
  },
  {
   "cell_type": "code",
   "execution_count": null,
   "metadata": {
    "id": "KD6CZdukVa9F"
   },
   "outputs": [],
   "source": [
    "def import_stock_data(tickers, start = '2010-1-1'):\n",
    "    data = pd.DataFrame()\n",
    "    if len([tickers]) ==1:\n",
    "        data[tickers] = wb.DataReader(tickers, data_source='yahoo', start = start)['Adj Close']\n",
    "        #data = pd.DataFrame(data)\n",
    "    else:\n",
    "        for t in tickers:\n",
    "            data[t] = wb.DataReader(t, data_source='yahoo', start = start)['Adj Close']\n",
    "    return(data)"
   ]
  },
  {
   "cell_type": "code",
   "execution_count": null,
   "metadata": {
    "id": "e1QiPdPmVa9I"
   },
   "outputs": [],
   "source": [
    "def log_returns(data):\n",
    "    return (np.log(1+data.pct_change()))"
   ]
  },
  {
   "cell_type": "code",
   "execution_count": null,
   "metadata": {
    "id": "HU4q-i_1Va9K"
   },
   "outputs": [],
   "source": [
    "def drift_calc(data):\n",
    "    lr = log_returns(data)\n",
    "    u = lr.mean()\n",
    "    var = lr.var()\n",
    "    drift = u-(0.5*var)\n",
    "    try:\n",
    "        return drift.values\n",
    "    except:\n",
    "        return drift"
   ]
  },
  {
   "cell_type": "code",
   "execution_count": null,
   "metadata": {
    "id": "zrhp1VRMVa9N"
   },
   "outputs": [],
   "source": [
    "def daily_returns(data, days, iterations):\n",
    "    ft = drift_calc(data)\n",
    "    try:\n",
    "        stv = log_returns(data).std().values\n",
    "    except:\n",
    "        stv = log_returns(data).std()\n",
    "    dr = np.exp(ft + stv * st.norm.ppf(np.random.rand(days, iterations)))\n",
    "    print(dr)\n",
    "    return dr"
   ]
  },
  {
   "cell_type": "code",
   "execution_count": null,
   "metadata": {
    "id": "m3tzTxM5Va9O"
   },
   "outputs": [],
   "source": [
    "def daily_returns_cauchy(data, days, iterations):\n",
    "    dr = st.cauchy.ppf(np.random.standard_cauchy(size=(days, iterations)))\n",
    "    print(dr)\n",
    "    return dr"
   ]
  },
  {
   "cell_type": "code",
   "execution_count": null,
   "metadata": {
    "id": "1FeVW75mVa9P"
   },
   "outputs": [],
   "source": [
    "def market_data_combination(data, mark_ticker = \"^GSPC\", start='2010-1-1'):\n",
    "    market_data = import_stock_data(mark_ticker, start)\n",
    "    market_rets = log_returns(market_data).dropna()\n",
    "    ann_return = np.exp(market_rets.mean()*252).values-1\n",
    "    data = data.merge(market_data, left_index=True, right_index=True)\n",
    "    return data, ann_return"
   ]
  },
  {
   "cell_type": "code",
   "execution_count": null,
   "metadata": {
    "id": "ml0JZz5pVa9Q"
   },
   "outputs": [],
   "source": [
    "def beta_sharpe(data, mark_ticker = \"^GSPC\", start='2010-1-1', riskfree = 0.025):\n",
    "    # Beta\n",
    "    dd, mark_ret = market_data_combination(data, mark_ticker, start)\n",
    "    log_ret = log_returns(dd)\n",
    "    covar = log_ret.cov()*252  # Annualized\n",
    "    covar = pd.DataFrame(covar.iloc[:-1,-1])\n",
    "    mrk_var = log_ret.iloc[:,-1].var()*252 #Annualized\n",
    "    beta = covar/mrk_var\n",
    "    \n",
    "    stdev_ret = pd.DataFrame(((log_ret.std()*250**0.5)[:-1]), columns=['STD'])\n",
    "    beta = beta.merge(stdev_ret, left_index=True, right_index=True)\n",
    "    \n",
    "    # CAPM\n",
    "    for i, row in beta.iterrows():\n",
    "        beta.at[i,'CAPM'] = riskfree + (row[mark_ticker] * (mark_ret-riskfree))\n",
    "    # Sharpe\n",
    "    for i, row in beta.iterrows():\n",
    "        beta.at[i,'Sharpe'] = ((row['CAPM']-riskfree)/(row['STD']))\n",
    "    beta.rename(columns={\"^GSPC\":\"Beta\"}, inplace=True)\n",
    "    \n",
    "    return beta"
   ]
  },
  {
   "cell_type": "code",
   "execution_count": null,
   "metadata": {
    "id": "N-HXfvU9Va9S"
   },
   "outputs": [],
   "source": [
    "def probs_find(predicted, higherthan, on = 'value'):\n",
    "    if on == 'return':\n",
    "        predicted0 = predicted.iloc[0,0]\n",
    "        predicted = predicted.iloc[-1]\n",
    "        predList = list(predicted)\n",
    "        over = [(i*100)/predicted0 for i in predList if ((i-predicted0)*100)/predicted0 >= higherthan]\n",
    "        less = [(i*100)/predicted0 for i in predList if ((i-predicted0)*100)/predicted0 < higherthan]\n",
    "    elif on == 'value':\n",
    "        predicted = predicted.iloc[-1]\n",
    "        predList = list(predicted)\n",
    "        over = [i for i in predList if i >= higherthan]\n",
    "        less = [i for i in predList if i < higherthan]\n",
    "    else:\n",
    "        print(\"'on' must be either value or return\")\n",
    "    return (len(over)/(len(over)+len(less)))"
   ]
  },
  {
   "cell_type": "code",
   "execution_count": null,
   "metadata": {
    "id": "yEH4lCzQVa9U"
   },
   "outputs": [],
   "source": [
    "def simulate_mc(data, days, iterations, plot=True):\n",
    "    # Generate daily returns\n",
    "    \n",
    "    #returns = daily_returns(data, days, iterations)\n",
    "    returns = daily_returns_cauchy(data, days, iterations)\n",
    "    \n",
    "    # Create empty matrix\n",
    "    price_list = np.zeros_like(returns)\n",
    "    # Put the last actual price in the first row of matrix. \n",
    "    price_list[0] = data.iloc[-1]\n",
    "    # Calculate the price of each day\n",
    "    for t in range(1,days):\n",
    "        price_list[t] = price_list[t-1]*returns[t]\n",
    "    \n",
    "    # Plot Option\n",
    "    if plot == True:\n",
    "        x = pd.DataFrame(price_list).iloc[-1]\n",
    "        fig, ax = plt.subplots(1,2, figsize=(14,4))\n",
    "        sns.distplot(x, ax=ax[0])\n",
    "        sns.distplot(x, hist_kws={'cumulative':True},kde_kws={'cumulative':True},ax=ax[1])\n",
    "        plt.xlabel(\"Stock Price\")\n",
    "        plt.show()\n",
    "    \n",
    "    #CAPM and Sharpe Ratio\n",
    "    \n",
    "    # Printing information about stock\n",
    "    try:\n",
    "        [print(nam) for nam in data.columns]\n",
    "    except:\n",
    "        print(data.name)\n",
    "    print(f\"Days: {days-1}\")\n",
    "    print(f\"Expected Value: ${round(pd.DataFrame(price_list).iloc[-1].mean(),2)}\")\n",
    "    print(f\"Return: {round(100*(pd.DataFrame(price_list).iloc[-1].mean()-price_list[0,1])/pd.DataFrame(price_list).iloc[-1].mean(),2)}%\")\n",
    "    #print(f\"Probability of Breakeven: {probs_find(pd.DataFrame(price_list),0, on='return')}\")\n",
    "   \n",
    "          \n",
    "    return pd.DataFrame(price_list)"
   ]
  },
  {
   "cell_type": "code",
   "execution_count": null,
   "metadata": {
    "id": "t77CuwqqVa9W"
   },
   "outputs": [],
   "source": [
    "def monte_carlo(data, tickers, days_forecast, iterations, start_date = '2000-1-1', plotten=False):\n",
    "    #data = import_stock_data(tickers, start=start_date)\n",
    "    #inform = beta_sharpe(data, mark_ticker=\"^GSPC\", start=start_date)\n",
    "    simulatedDF = []\n",
    "    for t in range(len(tickers)):\n",
    "        y = simulate_mc(data.iloc[:,t], (days_forecast+1), iterations)\n",
    "        if plotten == True:\n",
    "            forplot = y.iloc[:,0:10]\n",
    "            forplot.plot(figsize=(15,4))\n",
    "        #print(f\"Beta: {round(inform.iloc[t,inform.columns.get_loc('Beta')],2)}\")\n",
    "        #print(f\"Sharpe: {round(inform.iloc[t,inform.columns.get_loc('Sharpe')],2)}\") \n",
    "        #print(f\"CAPM Return: {round(100*inform.iloc[t,inform.columns.get_loc('CAPM')],2)}%\")\n",
    "        y['ticker'] = tickers[t]\n",
    "        cols = y.columns.tolist()\n",
    "        cols = cols[-1:] + cols[:-1]\n",
    "        y = y[cols]\n",
    "        simulatedDF.append(y)\n",
    "    simulatedDF = pd.concat(simulatedDF)\n",
    "    return simulatedDF"
   ]
  },
  {
   "cell_type": "code",
   "execution_count": null,
   "metadata": {
    "id": "LEhb8sVAVa9X"
   },
   "outputs": [],
   "source": [
    "#Example use\n",
    "start_date = '2015-1-1'\n",
    "tickers = ['AAPL']\n",
    "data =  import_stock_data(tickers, start=start_date)"
   ]
  },
  {
   "cell_type": "code",
   "execution_count": null,
   "metadata": {
    "id": "x-y3JBvoVa9Y",
    "outputId": "0bc77464-ab45-4b63-d16e-7bd090bc255d"
   },
   "outputs": [
    {
     "data": {
      "text/html": [
       "<div>\n",
       "<style scoped>\n",
       "    .dataframe tbody tr th:only-of-type {\n",
       "        vertical-align: middle;\n",
       "    }\n",
       "\n",
       "    .dataframe tbody tr th {\n",
       "        vertical-align: top;\n",
       "    }\n",
       "\n",
       "    .dataframe thead th {\n",
       "        text-align: right;\n",
       "    }\n",
       "</style>\n",
       "<table border=\"1\" class=\"dataframe\">\n",
       "  <thead>\n",
       "    <tr style=\"text-align: right;\">\n",
       "      <th></th>\n",
       "      <th>AAPL</th>\n",
       "    </tr>\n",
       "    <tr>\n",
       "      <th>Date</th>\n",
       "      <th></th>\n",
       "    </tr>\n",
       "  </thead>\n",
       "  <tbody>\n",
       "    <tr>\n",
       "      <th>2015-01-02</th>\n",
       "      <td>24.644014</td>\n",
       "    </tr>\n",
       "    <tr>\n",
       "      <th>2015-01-05</th>\n",
       "      <td>23.949757</td>\n",
       "    </tr>\n",
       "    <tr>\n",
       "      <th>2015-01-06</th>\n",
       "      <td>23.952013</td>\n",
       "    </tr>\n",
       "    <tr>\n",
       "      <th>2015-01-07</th>\n",
       "      <td>24.287878</td>\n",
       "    </tr>\n",
       "    <tr>\n",
       "      <th>2015-01-08</th>\n",
       "      <td>25.221069</td>\n",
       "    </tr>\n",
       "  </tbody>\n",
       "</table>\n",
       "</div>"
      ],
      "text/plain": [
       "                 AAPL\n",
       "Date                 \n",
       "2015-01-02  24.644014\n",
       "2015-01-05  23.949757\n",
       "2015-01-06  23.952013\n",
       "2015-01-07  24.287878\n",
       "2015-01-08  25.221069"
      ]
     },
     "execution_count": 32,
     "metadata": {},
     "output_type": "execute_result"
    }
   ],
   "source": [
    "data.head()"
   ]
  },
  {
   "cell_type": "code",
   "execution_count": null,
   "metadata": {
    "id": "UWEkjQTmVa9Z",
    "outputId": "eeefe1b3-7717-4688-b86b-5108a1f9e52d"
   },
   "outputs": [
    {
     "name": "stderr",
     "output_type": "stream",
     "text": [
      "/home/fedeb/anaconda3/lib/python3.8/site-packages/seaborn/distributions.py:2551: FutureWarning: `distplot` is a deprecated function and will be removed in a future version. Please adapt your code to use either `displot` (a figure-level function with similar flexibility) or `histplot` (an axes-level function for histograms).\n",
      "  warnings.warn(msg, FutureWarning)\n"
     ]
    },
    {
     "data": {
      "text/plain": [
       "Text(0, 0.5, 'Frequency')"
      ]
     },
     "execution_count": 73,
     "metadata": {},
     "output_type": "execute_result"
    },
    {
     "data": {
      "image/png": "[encoded data removed]",
      "text/plain": [
       "<Figure size 432x288 with 1 Axes>"
      ]
     },
     "metadata": {
      "needs_background": "light"
     },
     "output_type": "display_data"
    }
   ],
   "source": [
    "log_return = np.log(1 + data.pct_change())\n",
    "#Plot\n",
    "sns.distplot(log_return.iloc[1:])\n",
    "plt.xlabel(\"Daily Return\")\n",
    "plt.ylabel(\"Frequency\")"
   ]
  },
  {
   "cell_type": "code",
   "execution_count": null,
   "metadata": {
    "id": "ZCHKFU88Va9a"
   },
   "outputs": [],
   "source": []
  },
  {
   "cell_type": "code",
   "execution_count": null,
   "metadata": {
    "id": "HwSOHtUNVa9b",
    "outputId": "892f2616-4271-47f4-a243-adabc9327908"
   },
   "outputs": [
    {
     "name": "stdout",
     "output_type": "stream",
     "text": [
      "[[        nan         nan         nan ...         nan -0.098111\n",
      "          nan]\n",
      " [        nan         nan         nan ...         nan  0.2237009\n",
      "          nan]\n",
      " [        nan         nan         nan ... -0.83141937 -0.03110109\n",
      "          nan]\n",
      " ...\n",
      " [-0.05467739 -0.53153102         nan ...         nan         nan\n",
      "          nan]\n",
      " [        nan         nan         nan ...         nan         nan\n",
      "  -2.24941858]\n",
      " [        nan         nan         nan ...         nan -1.32302299\n",
      "          nan]]\n"
     ]
    },
    {
     "name": "stderr",
     "output_type": "stream",
     "text": [
      "/home/fedeb/anaconda3/lib/python3.8/site-packages/seaborn/distributions.py:2551: FutureWarning: `distplot` is a deprecated function and will be removed in a future version. Please adapt your code to use either `displot` (a figure-level function with similar flexibility) or `histplot` (an axes-level function for histograms).\n",
      "  warnings.warn(msg, FutureWarning)\n",
      "/home/fedeb/anaconda3/lib/python3.8/site-packages/seaborn/distributions.py:2589: RuntimeWarning: Mean of empty slice.\n",
      "  line, = ax.plot(a.mean(), 0)\n",
      "/home/fedeb/anaconda3/lib/python3.8/site-packages/numpy/core/_methods.py:170: RuntimeWarning: invalid value encountered in double_scalars\n",
      "  ret = ret.dtype.type(ret / rcount)\n",
      "/home/fedeb/anaconda3/lib/python3.8/site-packages/numpy/lib/histograms.py:905: RuntimeWarning: invalid value encountered in true_divide\n",
      "  return n/db/n.sum(), bin_edges\n"
     ]
    },
    {
     "data": {
      "image/png": "[encoded data removed]",
      "text/plain": [
       "<Figure size 1008x288 with 2 Axes>"
      ]
     },
     "metadata": {
      "needs_background": "light"
     },
     "output_type": "display_data"
    },
    {
     "name": "stdout",
     "output_type": "stream",
     "text": [
      "AAPL\n",
      "Days: 252\n",
      "Expected Value: $nan\n",
      "Return: nan%\n"
     ]
    },
    {
     "data": {
      "image/png": "[encoded data removed]",
      "text/plain": [
       "<Figure size 1080x288 with 1 Axes>"
      ]
     },
     "metadata": {
      "needs_background": "light"
     },
     "output_type": "display_data"
    }
   ],
   "source": [
    "ret_sim_df = monte_carlo(data, tickers, 252, 10000,  start_date=start_date, plotten=True)"
   ]
  }
 ],
 "metadata": {
  "colab": {
   "provenance": []
  },
  "kernelspec": {
   "display_name": "Python 3 (ipykernel)",
   "language": "python",
   "name": "python3"
  },
  "language_info": {
   "codemirror_mode": {
    "name": "ipython",
    "version": 3
   },
   "file_extension": ".py",
   "mimetype": "text/x-python",
   "name": "python",
   "nbconvert_exporter": "python",
   "pygments_lexer": "ipython3",
   "version": "3.10.5"
  }
 },
 "nbformat": 4,
 "nbformat_minor": 1
}
