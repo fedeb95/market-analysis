{
 "cells": [
  {
   "cell_type": "code",
   "execution_count": 1,
   "id": "920a42af-381d-4339-8e6f-a81a97e6968c",
   "metadata": {},
   "outputs": [],
   "source": [
    "import pandas as pd\n",
    "import matplotlib.pyplot as plt\n",
    "import nolds\n",
    "import numpy as np"
   ]
  },
  {
   "cell_type": "code",
   "execution_count": 2,
   "id": "39192fc3-c454-414a-8258-cc9249033d08",
   "metadata": {},
   "outputs": [
    {
     "data": {
      "text/html": [
       "<div>\n",
       "<style scoped>\n",
       "    .dataframe tbody tr th:only-of-type {\n",
       "        vertical-align: middle;\n",
       "    }\n",
       "\n",
       "    .dataframe tbody tr th {\n",
       "        vertical-align: top;\n",
       "    }\n",
       "\n",
       "    .dataframe thead th {\n",
       "        text-align: right;\n",
       "    }\n",
       "</style>\n",
       "<table border=\"1\" class=\"dataframe\">\n",
       "  <thead>\n",
       "    <tr style=\"text-align: right;\">\n",
       "      <th></th>\n",
       "      <th>date</th>\n",
       "      <th>AdrActCnt</th>\n",
       "      <th>AdrBal1in100KCnt</th>\n",
       "      <th>AdrBal1in100MCnt</th>\n",
       "      <th>AdrBal1in10BCnt</th>\n",
       "      <th>AdrBal1in10KCnt</th>\n",
       "      <th>AdrBal1in10MCnt</th>\n",
       "      <th>AdrBal1in1BCnt</th>\n",
       "      <th>AdrBal1in1KCnt</th>\n",
       "      <th>AdrBal1in1MCnt</th>\n",
       "      <th>...</th>\n",
       "      <th>TxTfrCnt</th>\n",
       "      <th>TxTfrValAdjNtv</th>\n",
       "      <th>TxTfrValAdjUSD</th>\n",
       "      <th>TxTfrValMeanNtv</th>\n",
       "      <th>TxTfrValMeanUSD</th>\n",
       "      <th>TxTfrValMedNtv</th>\n",
       "      <th>TxTfrValMedUSD</th>\n",
       "      <th>VelCur1yr</th>\n",
       "      <th>VtyDayRet180d</th>\n",
       "      <th>VtyDayRet30d</th>\n",
       "    </tr>\n",
       "  </thead>\n",
       "  <tbody>\n",
       "    <tr>\n",
       "      <th>0</th>\n",
       "      <td>2009-01-03</td>\n",
       "      <td>0</td>\n",
       "      <td>0</td>\n",
       "      <td>0</td>\n",
       "      <td>0</td>\n",
       "      <td>0</td>\n",
       "      <td>0</td>\n",
       "      <td>0</td>\n",
       "      <td>0</td>\n",
       "      <td>0</td>\n",
       "      <td>...</td>\n",
       "      <td>0</td>\n",
       "      <td>0.0</td>\n",
       "      <td>NaN</td>\n",
       "      <td>NaN</td>\n",
       "      <td>NaN</td>\n",
       "      <td>NaN</td>\n",
       "      <td>NaN</td>\n",
       "      <td>NaN</td>\n",
       "      <td>NaN</td>\n",
       "      <td>NaN</td>\n",
       "    </tr>\n",
       "    <tr>\n",
       "      <th>1</th>\n",
       "      <td>2009-01-04</td>\n",
       "      <td>0</td>\n",
       "      <td>0</td>\n",
       "      <td>0</td>\n",
       "      <td>0</td>\n",
       "      <td>0</td>\n",
       "      <td>0</td>\n",
       "      <td>0</td>\n",
       "      <td>0</td>\n",
       "      <td>0</td>\n",
       "      <td>...</td>\n",
       "      <td>0</td>\n",
       "      <td>0.0</td>\n",
       "      <td>NaN</td>\n",
       "      <td>NaN</td>\n",
       "      <td>NaN</td>\n",
       "      <td>NaN</td>\n",
       "      <td>NaN</td>\n",
       "      <td>NaN</td>\n",
       "      <td>NaN</td>\n",
       "      <td>NaN</td>\n",
       "    </tr>\n",
       "    <tr>\n",
       "      <th>2</th>\n",
       "      <td>2009-01-05</td>\n",
       "      <td>0</td>\n",
       "      <td>0</td>\n",
       "      <td>0</td>\n",
       "      <td>0</td>\n",
       "      <td>0</td>\n",
       "      <td>0</td>\n",
       "      <td>0</td>\n",
       "      <td>0</td>\n",
       "      <td>0</td>\n",
       "      <td>...</td>\n",
       "      <td>0</td>\n",
       "      <td>0.0</td>\n",
       "      <td>NaN</td>\n",
       "      <td>NaN</td>\n",
       "      <td>NaN</td>\n",
       "      <td>NaN</td>\n",
       "      <td>NaN</td>\n",
       "      <td>NaN</td>\n",
       "      <td>NaN</td>\n",
       "      <td>NaN</td>\n",
       "    </tr>\n",
       "    <tr>\n",
       "      <th>3</th>\n",
       "      <td>2009-01-06</td>\n",
       "      <td>0</td>\n",
       "      <td>0</td>\n",
       "      <td>0</td>\n",
       "      <td>0</td>\n",
       "      <td>0</td>\n",
       "      <td>0</td>\n",
       "      <td>0</td>\n",
       "      <td>0</td>\n",
       "      <td>0</td>\n",
       "      <td>...</td>\n",
       "      <td>0</td>\n",
       "      <td>0.0</td>\n",
       "      <td>NaN</td>\n",
       "      <td>NaN</td>\n",
       "      <td>NaN</td>\n",
       "      <td>NaN</td>\n",
       "      <td>NaN</td>\n",
       "      <td>NaN</td>\n",
       "      <td>NaN</td>\n",
       "      <td>NaN</td>\n",
       "    </tr>\n",
       "    <tr>\n",
       "      <th>4</th>\n",
       "      <td>2009-01-07</td>\n",
       "      <td>0</td>\n",
       "      <td>0</td>\n",
       "      <td>0</td>\n",
       "      <td>0</td>\n",
       "      <td>0</td>\n",
       "      <td>0</td>\n",
       "      <td>0</td>\n",
       "      <td>0</td>\n",
       "      <td>0</td>\n",
       "      <td>...</td>\n",
       "      <td>0</td>\n",
       "      <td>0.0</td>\n",
       "      <td>NaN</td>\n",
       "      <td>NaN</td>\n",
       "      <td>NaN</td>\n",
       "      <td>NaN</td>\n",
       "      <td>NaN</td>\n",
       "      <td>NaN</td>\n",
       "      <td>NaN</td>\n",
       "      <td>NaN</td>\n",
       "    </tr>\n",
       "  </tbody>\n",
       "</table>\n",
       "<p>5 rows × 140 columns</p>\n",
       "</div>"
      ],
      "text/plain": [
       "         date  AdrActCnt  AdrBal1in100KCnt  AdrBal1in100MCnt  AdrBal1in10BCnt  \\\n",
       "0  2009-01-03          0                 0                 0                0   \n",
       "1  2009-01-04          0                 0                 0                0   \n",
       "2  2009-01-05          0                 0                 0                0   \n",
       "3  2009-01-06          0                 0                 0                0   \n",
       "4  2009-01-07          0                 0                 0                0   \n",
       "\n",
       "   AdrBal1in10KCnt  AdrBal1in10MCnt  AdrBal1in1BCnt  AdrBal1in1KCnt  \\\n",
       "0                0                0               0               0   \n",
       "1                0                0               0               0   \n",
       "2                0                0               0               0   \n",
       "3                0                0               0               0   \n",
       "4                0                0               0               0   \n",
       "\n",
       "   AdrBal1in1MCnt  ...  TxTfrCnt  TxTfrValAdjNtv  TxTfrValAdjUSD  \\\n",
       "0               0  ...         0             0.0             NaN   \n",
       "1               0  ...         0             0.0             NaN   \n",
       "2               0  ...         0             0.0             NaN   \n",
       "3               0  ...         0             0.0             NaN   \n",
       "4               0  ...         0             0.0             NaN   \n",
       "\n",
       "   TxTfrValMeanNtv  TxTfrValMeanUSD  TxTfrValMedNtv  TxTfrValMedUSD  \\\n",
       "0              NaN              NaN             NaN             NaN   \n",
       "1              NaN              NaN             NaN             NaN   \n",
       "2              NaN              NaN             NaN             NaN   \n",
       "3              NaN              NaN             NaN             NaN   \n",
       "4              NaN              NaN             NaN             NaN   \n",
       "\n",
       "   VelCur1yr  VtyDayRet180d  VtyDayRet30d  \n",
       "0        NaN            NaN           NaN  \n",
       "1        NaN            NaN           NaN  \n",
       "2        NaN            NaN           NaN  \n",
       "3        NaN            NaN           NaN  \n",
       "4        NaN            NaN           NaN  \n",
       "\n",
       "[5 rows x 140 columns]"
      ]
     },
     "execution_count": 2,
     "metadata": {},
     "output_type": "execute_result"
    }
   ],
   "source": [
    "df = pd.read_csv('btc.csv')\n",
    "df.head()"
   ]
  },
  {
   "cell_type": "code",
   "execution_count": 3,
   "id": "7c83c744-eaa9-4105-a291-825ab5ffabbe",
   "metadata": {},
   "outputs": [],
   "source": [
    "df[\"date\"] = df[\"date\"].astype(\"datetime64\")\n",
    "df = df.set_index(\"date\")"
   ]
  },
  {
   "cell_type": "code",
   "execution_count": 4,
   "id": "3513fbb8-5c70-4048-910b-229ad047dca4",
   "metadata": {},
   "outputs": [],
   "source": [
    "price2021 = df[df.index.year == 2021]['PriceUSD']"
   ]
  },
  {
   "cell_type": "code",
   "execution_count": 5,
   "id": "60719881-e2a9-45a0-a836-bcfcce6ef8c5",
   "metadata": {},
   "outputs": [
    {
     "data": {
      "text/plain": [
       "[<matplotlib.lines.Line2D at 0x7f3a84a87310>]"
      ]
     },
     "execution_count": 5,
     "metadata": {},
     "output_type": "execute_result"
    },
    {
     "data": {
      "image/png": "[encoded data removed]",
      "text/plain": [
       "<Figure size 432x288 with 1 Axes>"
      ]
     },
     "metadata": {
      "needs_background": "light"
     },
     "output_type": "display_data"
    }
   ],
   "source": [
    "plt.figure()\n",
    "plt.plot(df['PriceUSD'])"
   ]
  },
  {
   "cell_type": "code",
   "execution_count": 6,
   "id": "6625332f-00ae-479b-a4f4-973e722eac36",
   "metadata": {},
   "outputs": [
    {
     "data": {
      "text/plain": [
       "[<matplotlib.lines.Line2D at 0x7f3a84809510>]"
      ]
     },
     "execution_count": 6,
     "metadata": {},
     "output_type": "execute_result"
    },
    {
     "data": {
      "image/png": "[encoded data removed]",
      "text/plain": [
       "<Figure size 432x288 with 1 Axes>"
      ]
     },
     "metadata": {
      "needs_background": "light"
     },
     "output_type": "display_data"
    }
   ],
   "source": [
    "plt.figure()\n",
    "plt.plot(price2021)"
   ]
  },
  {
   "cell_type": "markdown",
   "id": "c72a5dd7-2ba6-4b40-90bb-1dfc939a0de3",
   "metadata": {},
   "source": [
    "### Sample Entropy\n",
    "\n",
    "Low values means the series is regular and predicatble.\n",
    "\n",
    "Let's start by analyzing the entropy for a completely random dataset:"
   ]
  },
  {
   "cell_type": "code",
   "execution_count": 7,
   "id": "d042edd8-3598-418d-ba39-d4443a01b317",
   "metadata": {},
   "outputs": [
    {
     "data": {
      "text/plain": [
       "2.159036922126052"
      ]
     },
     "execution_count": 7,
     "metadata": {},
     "output_type": "execute_result"
    }
   ],
   "source": [
    "randomDf = np.random.random(size=len(price2021))\n",
    "nolds.sampen(randomDf)"
   ]
  },
  {
   "cell_type": "markdown",
   "id": "9dbce267-91ae-4664-acf0-cdfb4d5c8cce",
   "metadata": {},
   "source": [
    "Its value is 2.2 so pretty high.\n",
    "\n",
    "Let's find out what's the SampEn value for Bitcoin price in 2021: "
   ]
  },
  {
   "cell_type": "code",
   "execution_count": 8,
   "id": "68a9c36c-c1b1-43c6-b1b7-2964e960aeef",
   "metadata": {},
   "outputs": [
    {
     "data": {
      "text/plain": [
       "0.6033316389333855"
      ]
     },
     "execution_count": 8,
     "metadata": {},
     "output_type": "execute_result"
    }
   ],
   "source": [
    "nolds.sampen(price2021)"
   ]
  },
  {
   "cell_type": "markdown",
   "id": "8733a436-85a3-4eeb-b925-cdb64431dd08",
   "metadata": {},
   "source": [
    "Pretty low compared to random. It lowers even further when considering BTC close price since 2011:"
   ]
  },
  {
   "cell_type": "code",
   "execution_count": 9,
   "id": "9a37a483-51ea-4eb1-bc18-9d1ec39b913e",
   "metadata": {},
   "outputs": [
    {
     "data": {
      "text/plain": [
       "0.007457171744891045"
      ]
     },
     "execution_count": 9,
     "metadata": {},
     "output_type": "execute_result"
    }
   ],
   "source": [
    "nolds.sampen(df[df.index.year >= 2011]['PriceUSD'])"
   ]
  },
  {
   "cell_type": "code",
   "execution_count": null,
   "id": "3fc1d44c-259d-4c32-bf45-150de97a3944",
   "metadata": {},
   "outputs": [],
   "source": []
  },
  {
   "cell_type": "code",
   "execution_count": 10,
   "id": "40b7189f-0fbd-4851-998e-339109217c17",
   "metadata": {},
   "outputs": [
    {
     "data": {
      "text/plain": [
       "<AxesSubplot:xlabel='date'>"
      ]
     },
     "execution_count": 10,
     "metadata": {},
     "output_type": "execute_result"
    },
    {
     "data": {
      "image/png": "[encoded data removed]",
      "text/plain": [
       "<Figure size 432x288 with 1 Axes>"
      ]
     },
     "metadata": {
      "needs_background": "light"
     },
     "output_type": "display_data"
    }
   ],
   "source": [
    "# TODO plot sampen for each year, considering all previous years (since 2011)\n",
    "df['PriceUSD'].groupby(df.index.year).apply(nolds.sampen).plot()"
   ]
  },
  {
   "cell_type": "markdown",
   "id": "af3757ec-7b7a-4319-b4f0-9f373460c7bf",
   "metadata": {},
   "source": [
    "### Lyapunov exponent"
   ]
  },
  {
   "cell_type": "code",
   "execution_count": 11,
   "id": "1e83a290-f48c-4d01-8d80-894c47b774d6",
   "metadata": {},
   "outputs": [
    {
     "data": {
      "text/plain": [
       "0.09008588315919042"
      ]
     },
     "execution_count": 11,
     "metadata": {},
     "output_type": "execute_result"
    }
   ],
   "source": [
    "lyape = nolds.lyap_e(price2021)\n",
    "sum = 0\n",
    "for i in range(0,len(lyape)):\n",
    "    if lyape[i] > 0:\n",
    "        sum += lyape[i]\n",
    "sum"
   ]
  },
  {
   "cell_type": "code",
   "execution_count": 12,
   "id": "b9c707c2-f4df-4751-95d9-9ec808579bdc",
   "metadata": {},
   "outputs": [
    {
     "data": {
      "text/plain": [
       "array([-0.11164535, -0.10609838, -0.14628269, -0.19698374], dtype=float32)"
      ]
     },
     "execution_count": 12,
     "metadata": {},
     "output_type": "execute_result"
    }
   ],
   "source": [
    "randU = np.random.choice([85.0, 80.0, 89.0], size=17 * 3)\n",
    "nolds.lyap_e(randU)"
   ]
  },
  {
   "cell_type": "code",
   "execution_count": 13,
   "id": "d8823afe-ff5c-4c65-becb-4ad0b3d4725e",
   "metadata": {},
   "outputs": [
    {
     "data": {
      "text/plain": [
       "1.0394234172777792"
      ]
     },
     "execution_count": 13,
     "metadata": {},
     "output_type": "execute_result"
    }
   ],
   "source": [
    "nolds.sampen(randU)"
   ]
  },
  {
   "cell_type": "markdown",
   "id": "67d5725c-f48f-473a-a36a-352de72d1aea",
   "metadata": {},
   "source": [
    "### Hurst exponent\n",
    "\n",
    "0.5 is white noise, a greater value means positive dependency on previous data, lower than 0.5 a negative dependency."
   ]
  },
  {
   "cell_type": "code",
   "execution_count": 14,
   "id": "30371503-fbf8-4925-978e-1b9437f05b03",
   "metadata": {},
   "outputs": [
    {
     "data": {
      "text/plain": [
       "<AxesSubplot:xlabel='date'>"
      ]
     },
     "execution_count": 14,
     "metadata": {},
     "output_type": "execute_result"
    },
    {
     "data": {
      "image/png": "[encoded data removed]",
      "text/plain": [
       "<Figure size 432x288 with 1 Axes>"
      ]
     },
     "metadata": {
      "needs_background": "light"
     },
     "output_type": "display_data"
    }
   ],
   "source": [
    "df['PriceUSD'].groupby(df.index.year).apply(nolds.hurst_rs).plot()"
   ]
  },
  {
   "cell_type": "markdown",
   "id": "715da6a2-cd79-4c6e-82f9-dff9260ee0df",
   "metadata": {},
   "source": [
    "At each year we have a positive dependency."
   ]
  },
  {
   "cell_type": "code",
   "execution_count": 15,
   "id": "897fbc84-989b-45fb-b134-509c2d80e5bb",
   "metadata": {},
   "outputs": [
    {
     "data": {
      "text/plain": [
       "0.9554426265206137"
      ]
     },
     "execution_count": 15,
     "metadata": {},
     "output_type": "execute_result"
    }
   ],
   "source": [
    "nolds.hurst_rs(df[df.index.year >= 2011]['PriceUSD'])"
   ]
  },
  {
   "cell_type": "markdown",
   "id": "d37247f1-2b63-4504-b9dd-e9e6bddad87f",
   "metadata": {},
   "source": [
    "this holds if we consider all data from 2011."
   ]
  }
 ],
 "metadata": {
  "kernelspec": {
   "display_name": "Python 3 (ipykernel)",
   "language": "python",
   "name": "python3"
  },
  "language_info": {
   "codemirror_mode": {
    "name": "ipython",
    "version": 3
   },
   "file_extension": ".py",
   "mimetype": "text/x-python",
   "name": "python",
   "nbconvert_exporter": "python",
   "pygments_lexer": "ipython3",
   "version": "3.10.5"
  }
 },
 "nbformat": 4,
 "nbformat_minor": 5
}
